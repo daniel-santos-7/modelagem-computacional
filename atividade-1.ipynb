{
 "cells": [
  {
   "cell_type": "markdown",
   "id": "462aa72e-7e4f-48e2-aba4-edb33991684a",
   "metadata": {
    "tags": []
   },
   "source": [
    "# Universidade Federal Rural do Semi-Árido\n",
    "# Modelagem Computacional\n",
    "**Nome: Daniel da Silva Santos**"
   ]
  },
  {
   "cell_type": "markdown",
   "id": "bac46f6c-9ce5-4af9-bb10-b1d5a48378b7",
   "metadata": {
    "tags": []
   },
   "source": [
    "## Atividade 1"
   ]
  },
  {
   "cell_type": "markdown",
   "id": "0f6d4da9-c791-4d7f-a056-c447f6fe8563",
   "metadata": {
    "tags": []
   },
   "source": [
    "### 1. Leia um número e escreva seu valor, sua raiz quadrada e seu quadrado."
   ]
  },
  {
   "cell_type": "code",
   "execution_count": null,
   "id": "e03bab43-1b9f-4251-a067-2658b89dba57",
   "metadata": {},
   "outputs": [],
   "source": [
    "# ler número e converter um valor real (ponto flutuante)\n",
    "num = input('Insira um número:')\n",
    "num = float(num)\n",
    "\n",
    "# calcular raiz e quadrado\n",
    "root = num ** (1/2)\n",
    "square = num ** 2\n",
    "\n",
    "# exibir resultado\n",
    "print(f'Número digitado: {num}')\n",
    "print(f'Raiz quadrada: {root}')\n",
    "print(f'Quadrado do número: {square}')"
   ]
  },
  {
   "cell_type": "markdown",
   "id": "27138292-4dc0-43a7-bce3-d105b5474881",
   "metadata": {},
   "source": [
    "### 2. Leia um número que representa o raio de um círculo, calcule o comprimento da circunferência, a área do círculo e apresente os resultados."
   ]
  },
  {
   "cell_type": "markdown",
   "id": "3314dd3e-f1e2-48f9-8f1b-a5272f0c984e",
   "metadata": {},
   "source": [
    "Comprimento de uma circunferência: $l = 2\\pi r$.\n",
    "\n",
    "Área de um círculo: $a = \\pi r^2$."
   ]
  },
  {
   "cell_type": "code",
   "execution_count": null,
   "id": "b9d70df2-6883-46c3-a979-1ec17cb97e08",
   "metadata": {},
   "outputs": [],
   "source": [
    "# ler valor do raio e converter para real (ponto flutuante)\n",
    "r = input('Insira o valor do raio do círculo:')\n",
    "r = float(r)\n",
    "\n",
    "# constante com valor aproximado de PI\n",
    "PI = 3.1415927\n",
    "\n",
    "# calcular comprimento e área\n",
    "l = 2*PI*r\n",
    "a = PI*r**2\n",
    "\n",
    "# exibir resultado\n",
    "print(f'Raio digitado: {r}')\n",
    "print(f'Comprimento da circunferência: {l}')\n",
    "print(f'Área do círculo: {a}')"
   ]
  },
  {
   "cell_type": "markdown",
   "id": "9ef5417c-1bd4-41f0-a7ad-dd1f436114b2",
   "metadata": {
    "tags": []
   },
   "source": [
    "### 3. Leia um número que representa o raio de uma esfera, calcule a área da esfera, o volume da esfera e apresente os resultados"
   ]
  },
  {
   "cell_type": "markdown",
   "id": "7b1ef38e-6526-48c5-9a0c-665dc1c64d61",
   "metadata": {},
   "source": [
    "Área de superfície de uma esfera: $a = 4\\pi r$.\n",
    "\n",
    "Volume de uma esfera: $v = \\frac{4}{3}\\pi r^3$."
   ]
  },
  {
   "cell_type": "code",
   "execution_count": null,
   "id": "5cc10f8d-9567-426c-866a-61fa23c9d1cb",
   "metadata": {},
   "outputs": [],
   "source": [
    "# ler valor do raio\n",
    "r = input('Insira o valor do raio da esfera:')\n",
    "r = float(r)\n",
    "\n",
    "# constante com valor aproximado de PI\n",
    "PI = 3.1415927\n",
    "\n",
    "# calcular área e volume da esfera\n",
    "a = 4*PI*r**2\n",
    "v = 4/3*PI*r**3\n",
    "\n",
    "# exibir resultado\n",
    "print(f'Raio digitado: {r}')\n",
    "print(f'Área da superfície da esfera: {a}')\n",
    "print(f'Volume da esfera: {v}')"
   ]
  },
  {
   "cell_type": "markdown",
   "id": "d58b4dab-90c7-4fd1-90f0-45b7ebbb2440",
   "metadata": {},
   "source": [
    "### 4. Leia três números que representam os lados de um triângulo qualquer, calcule a área do triângulo e apresente o resultado."
   ]
  },
  {
   "cell_type": "markdown",
   "id": "1c34c080-5052-4bee-aac6-75ebb6991ae1",
   "metadata": {},
   "source": [
    "A área de um triângulo qualquer pode ser calculada a partir dos comprimentos dos lados (a, b, c) utilizando a [fórmula de Heron](https://pt.khanacademy.org/math/geometry-home/geometry-volume-surface-area/heron-formula-tutorial/v/heron-s-formula):\n",
    "\n",
    "$$A = \\sqrt{s(s-a)(s-b)(s-c)}$$\n",
    "\n",
    "onde: \n",
    "\n",
    "$$s=\\frac{a+b+c}{2}$$"
   ]
  },
  {
   "cell_type": "code",
   "execution_count": null,
   "id": "482cdc5c-313e-4f12-8311-44820110e90b",
   "metadata": {},
   "outputs": [],
   "source": [
    "# ler os três lados do triângulo\n",
    "a = input('Digite o comprimento do primeiro lado do triângulo:')\n",
    "b = input('Digite o comprimento do segundo lado do triângulo:')\n",
    "c = input('Digite o comprimento do terceiro lado do triângulo:')\n",
    "\n",
    "# converter valores para real (ponto flutuante)\n",
    "a = float(a)\n",
    "b = float(b)\n",
    "c = float(c)\n",
    "\n",
    "# calcular área do triângulo com base na fórmula de Heron\n",
    "s = (a+b+c)/2\n",
    "A = (s*(s-a)*(s-b)*(s-c))**(1/2)\n",
    "\n",
    "# exibir resultado\n",
    "print(f'Área do triângulo: {A}')"
   ]
  }
 ],
 "metadata": {
  "kernelspec": {
   "display_name": "Python 3 (ipykernel)",
   "language": "python",
   "name": "python3"
  },
  "language_info": {
   "codemirror_mode": {
    "name": "ipython",
    "version": 3
   },
   "file_extension": ".py",
   "mimetype": "text/x-python",
   "name": "python",
   "nbconvert_exporter": "python",
   "pygments_lexer": "ipython3",
   "version": "3.9.13"
  }
 },
 "nbformat": 4,
 "nbformat_minor": 5
}
