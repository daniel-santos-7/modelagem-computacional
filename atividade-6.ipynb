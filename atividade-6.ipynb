{
 "cells": [
  {
   "cell_type": "markdown",
   "id": "d1faf6f5-5c60-48c4-8f78-60409fecd2d8",
   "metadata": {},
   "source": [
    "# Universidade Federal Rural do Semi-Árido\n",
    "# Modelagem Computacional\n",
    "**Nome: Daniel da Silva Santos**"
   ]
  },
  {
   "cell_type": "markdown",
   "id": "4aae4beb-a9a9-4f40-842f-90369babc62b",
   "metadata": {},
   "source": [
    "## Atividade 6"
   ]
  },
  {
   "cell_type": "code",
   "execution_count": null,
   "id": "eee163fd-4425-4199-87ce-39294ed4ce00",
   "metadata": {},
   "outputs": [],
   "source": [
    "import numpy as np\n",
    "import matplotlib.pyplot as plt"
   ]
  },
  {
   "cell_type": "markdown",
   "id": "9d173291-bc19-446e-b595-cdf37f13ded9",
   "metadata": {
    "tags": []
   },
   "source": [
    "### 1. Escreva um programa para calcular a solução e um sistema de equações lineares pelo método direto de Jordan."
   ]
  },
  {
   "cell_type": "markdown",
   "id": "0db888b7-e1dc-470b-b613-9444b776c998",
   "metadata": {},
   "source": [
    "O seguinte sistema será resolvido pelo método de Gauss-Jordan:\n",
    "\n",
    "$$0.1x_0 + 7x_1 -0.3x_2=-19.3\\\\0.3x_0-0.2x_1+10x_3=71.4\\\\3x_0-0.1x_1-0.2x_2=7.85$$"
   ]
  },
  {
   "cell_type": "code",
   "execution_count": null,
   "id": "34b53195-893d-4114-9cdf-58b7a1799cc5",
   "metadata": {},
   "outputs": [],
   "source": [
    "# Algoritmo de pivoteamento parcial\n",
    "def partial_pivot(AB):\n",
    "    M = AB.copy()\n",
    "    n = len(M)\n",
    "    for i in range(n):\n",
    "        j = np.argmax(np.abs(M[:, i])) # encontrar linha com máximo valor\n",
    "        if i != j: \n",
    "            M[[i, j]] = M[[j, i]] # troca de linhas\n",
    "    return M\n",
    "\n",
    "# Implementação do método de Gauss-Jordan\n",
    "def gauss_jordan(AB):\n",
    "    M = AB.copy()\n",
    "    n = len(M)\n",
    "    for i in range(n):\n",
    "        j = i\n",
    "        while True:\n",
    "            if j == i:\n",
    "                M[j] = 1/M[j][i]*M[i] # Linha do pivô\n",
    "            else:\n",
    "                M[j] = M[j]-M[j][i]*M[i] # demais linhas\n",
    "            j = (j + 1) % n\n",
    "            if j == i: break\n",
    "    return M\n",
    "\n",
    "# Definindo matriz estendida\n",
    "AB = np.array([\n",
    "    [0.1, 7, -0.3, -19.3], \n",
    "    [0.3, -0.2, 10, 71.4],\n",
    "    [3, -0.1, -0.2, 7.85]\n",
    "])\n",
    "\n",
    "# Ajustar valores da diagonal\n",
    "AB = partial_pivot(AB)\n",
    "\n",
    "# Calcular solução\n",
    "x = gauss_jordan(M)\n",
    "print('--------------------------------------')\n",
    "print('Resultado do pivoteamento')\n",
    "print('--------------------------------------')\n",
    "print(AB)\n",
    "print('--------------------------------------')\n",
    "print('Solução')\n",
    "print('--------------------------------------')\n",
    "print(R)\n",
    "print('--------------------------------------')\n",
    "print(f'x0 = {x[0][3]}')\n",
    "print(f'x1 = {x[1][3]}')\n",
    "print(f'x2 = {x[2][3]}')\n",
    "print('--------------------------------------')"
   ]
  },
  {
   "cell_type": "markdown",
   "id": "c40d5344-67c3-4986-b39c-40c9894ee244",
   "metadata": {
    "tags": []
   },
   "source": [
    "### 2. Escreva um programa para calcular a solução e um sistema de equações lineares pelo método iterativo de Gauss-Seidel."
   ]
  },
  {
   "cell_type": "markdown",
   "id": "c3aa24ad-5688-41f7-b81e-e35c03419222",
   "metadata": {},
   "source": [
    "O mesmo sistema linear (após o pivoteamento) será resolvido utilizando o método de Gauss-Seidel:\n",
    "\n",
    "$$3x_0-0.1x_1-0.2x_2=7.85\\\\0.1x_0 + 7x_1 -0.3x_2=-19.3\\\\0.3x_0-0.2x_1+10x_3=71.4$$"
   ]
  },
  {
   "cell_type": "code",
   "execution_count": null,
   "id": "4ff02802-9c41-48fc-a8c7-73a868c45408",
   "metadata": {},
   "outputs": [],
   "source": [
    "# Implementação do método de Gauss-Seidel\n",
    "def gauss_seidel(A, B, x0, precision=1e-6, max_iter=10):\n",
    "    x=x0.copy()\n",
    "    n = len(A)\n",
    "    for k in range(max_iter):\n",
    "        p_x = x.copy()\n",
    "        for i in range(n):\n",
    "            s = 0\n",
    "            for j in range(n):\n",
    "                if j != i: s += A[i, j] * x[j]\n",
    "            x[i] = (B[i] - s) / A[i, i]\n",
    "        if max(abs(x-p_x)) <= precision: break\n",
    "    return x\n",
    "\n",
    "# Definindo matriz dos coeficientes\n",
    "A = np.array([ [3, -0.1, -0.2], [0.1, 7, -0.3], [0.3, -0.2, 10] ])\n",
    "\n",
    "# Definindo matriz dos valores\n",
    "B = np.array([ 7.85, -19.3, 71.4])\n",
    "\n",
    "# Valor inicial: 0, 0, 0\n",
    "x0 = np.zeros_like(B)\n",
    "\n",
    "# Cálculo da solução\n",
    "x = gauss_seidel(A, B, x0, 1e-6, 10)\n",
    "\n",
    "print('--------------------------------------')\n",
    "print('Solução')\n",
    "print('--------------------------------------')\n",
    "print(f'x0 = {x[0]}')\n",
    "print(f'x1 = {x[1]}')\n",
    "print(f'x2 = {x[2]}')\n",
    "print('--------------------------------------')"
   ]
  }
 ],
 "metadata": {
  "kernelspec": {
   "display_name": "Python 3 (ipykernel)",
   "language": "python",
   "name": "python3"
  },
  "language_info": {
   "codemirror_mode": {
    "name": "ipython",
    "version": 3
   },
   "file_extension": ".py",
   "mimetype": "text/x-python",
   "name": "python",
   "nbconvert_exporter": "python",
   "pygments_lexer": "ipython3",
   "version": "3.9.13"
  }
 },
 "nbformat": 4,
 "nbformat_minor": 5
}
