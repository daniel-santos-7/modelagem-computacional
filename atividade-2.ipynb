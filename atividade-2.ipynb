{
 "cells": [
  {
   "cell_type": "markdown",
   "id": "e685ef55-3370-4b8b-bb08-f42b7d29e238",
   "metadata": {
    "tags": []
   },
   "source": [
    "# Universidade Federal Rural do Semi-Árido\n",
    "# Modelagem Computacional\n",
    "**Nome: Daniel da Silva Santos**"
   ]
  },
  {
   "cell_type": "markdown",
   "id": "380703bd-6cb9-43b8-8efb-150b3ededf4a",
   "metadata": {},
   "source": [
    "## Atividade 2"
   ]
  },
  {
   "cell_type": "markdown",
   "id": "b2b708a6-fa62-4c60-91ce-8d8a36e8d35c",
   "metadata": {},
   "source": [
    "### 1. Leia três números e, se formarem um triângulo, informem se o triângulo é equilátero, isósceles ou escaleno."
   ]
  },
  {
   "cell_type": "markdown",
   "id": "9ca0f9c9-c6b6-44ce-a480-4c7ed99028c1",
   "metadata": {},
   "source": [
    "As seguintes condições devem ser atendidas para um triângulo ser formado.\n",
    "- a + b > c\n",
    "- a + c > b\n",
    "- b + c > a\n",
    "\n",
    "onde a, b e c são os comprimentos dos lados.\n",
    "\n",
    "- Um triângulo é **equilátero** quando todos os lados têm a mesma medida.\n",
    "- Um triângulo é **isóceles** quando dois dos três lados têm a mesma medida.\n",
    "- Um triângulo é **escaleno** quando todos os lados têm medidas diferentes"
   ]
  },
  {
   "cell_type": "code",
   "execution_count": null,
   "id": "1f2ca934-6513-457a-9956-d67246d041b6",
   "metadata": {},
   "outputs": [],
   "source": [
    "# ler os três lados do triângulo\n",
    "a = input('Digite o comprimento do primeiro lado do triângulo:')\n",
    "b = input('Digite o comprimento do segundo lado do triângulo:')\n",
    "c = input('Digite o comprimento do terceiro lado do triângulo:')\n",
    "\n",
    "# converter valores para real (ponto flutuante)\n",
    "a = float(a)\n",
    "b = float(b)\n",
    "c = float(c)\n",
    "\n",
    "if ((a + b) <= c):\n",
    "    print(f'Não é possível formar um triângulo com esses valores, pois {a} + {b} <= {c}')\n",
    "elif ((a + c) <= b):\n",
    "    print(f'Não é possível formar um triângulo com esses valores, pois {a} + {c} <= {b}')\n",
    "elif ((b + c) <= a):\n",
    "    print(f'Não é possível formar um triângulo com esses valores, pois {b} + {c} <= {a}')\n",
    "elif (a == b) and (b == c):\n",
    "    print('É possível formar um triângulo equilátero com esses valores')\n",
    "elif (a == b) or (b == c) or (a == c):\n",
    "    print('É possível formar um triângulo isóceles com esses valores')\n",
    "else:\n",
    "    print('É possível formar um triângulo escaleno com esses valores')"
   ]
  },
  {
   "cell_type": "markdown",
   "id": "83014eeb-ee86-4933-962b-e74985f46372",
   "metadata": {},
   "source": [
    "### 2. Leia três números em uma sequência qualquer e escreva-os em ordem crescente."
   ]
  },
  {
   "cell_type": "code",
   "execution_count": null,
   "id": "aa31e304-7338-43ff-9e21-a911dd82ea2c",
   "metadata": {},
   "outputs": [],
   "source": [
    "# ler primeiro valor e converter para real (ponto flutuante)\n",
    "a = input('Digite o primeiro valor:')\n",
    "a = float(a)\n",
    "\n",
    "# ler segundo valor e converter para real (ponto flutuante)\n",
    "b = input('Digite o segundo valor:')\n",
    "b = float(b)\n",
    "\n",
    "# Se o segundo valor for menor que o primeiro, trocar valores das variáveis\n",
    "if b < a:\n",
    "    # a = menor valor, b = maior valor\n",
    "    a, b = b, a\n",
    "\n",
    "# ler terceiro valor e converter para real (ponto flutuante)\n",
    "c = input('Digite o terceiro valor:')\n",
    "c = float(c)\n",
    "\n",
    "# Se o terceiro valor for menor que o maior fornecido anteriormente (b), trocar valores das variáveis\n",
    "if c < b:\n",
    "    # c = maior valor\n",
    "    b, c = c, b\n",
    "    # Se o terceiro valor for também menor que o menor fornecido anteriormente (a), trocar valores das variáveis\n",
    "    if b < a:\n",
    "        # a = menor valor, b = valor intermediário\n",
    "        a, b = b, a\n",
    "    \n",
    "print(f'Ordem crescente: {a}, {b}, {c}')"
   ]
  },
  {
   "cell_type": "markdown",
   "id": "d12ab516-0e72-4849-8ec6-7eae3b32c0db",
   "metadata": {},
   "source": [
    "### 3. Um estudante fez 3 avaliações, a média é aritmética e igual a 7 para aprovação, se estiver entre 3 e 7, é realizada a quarta avaliação. A média entre esta avaliação e a parcial deve ser ≥ 5, escreva um programa para ler as 3 notas e informar: \n",
    "- A média parcial.\n",
    "- A nota necessária para aprovação na quarta avaliação, se for necessário.\n",
    "- Após ler a quarta nota calcular a média final, e apresentá-la e junto ao resultado: aprovado ou reprovado."
   ]
  },
  {
   "cell_type": "code",
   "execution_count": null,
   "id": "eefe1ede-6dc4-4cb5-a139-a0ebb06cafb1",
   "metadata": {},
   "outputs": [],
   "source": [
    "# \"constantes\"\n",
    "EXPECTED_PARTIAL_AVERAGE = 7\n",
    "MINIMUM_PARTIAL_AVERAGE = 3\n",
    "EXPECTED_FINAL_AVERAGE = 5\n",
    "\n",
    "# Ler as três notas\n",
    "n1 = input('Digite a primeira nota:')\n",
    "n2 = input('Digite a segunda nota:')\n",
    "n3 = input('Digite a terceira nota:')\n",
    "\n",
    "# Converter valores para real (ponto flutuante)\n",
    "n1 = float(n1)\n",
    "n2 = float(n2)\n",
    "n3 = float(n3)\n",
    "\n",
    "# Calcular média parcial\n",
    "avg = (n1+n2+n3)/3\n",
    "\n",
    "# Exibir média parcial\n",
    "print(f'Sua média parcial foi {avg}')\n",
    "\n",
    "if (avg >= EXPECTED_PARTIAL_AVERAGE):\n",
    "    print('Parabéns! você foi aprovado.')    \n",
    "elif (avg >= MINIMUM_PARTIAL_AVERAGE):\n",
    "    # Calcular nota esperada\n",
    "    exp_n4 = 2*EXPECTED_FINAL_AVERAGE-avg;\n",
    "    print(f'Você irá precisar de {exp_n4} pontos na quarta avaliação')\n",
    "    \n",
    "    # Ler quarta nota\n",
    "    n4 = input('Digite a quarta nota:')\n",
    "    n4 = float(n4)\n",
    "    \n",
    "    # Calcular média final\n",
    "    final_avg = (n4+avg)/2\n",
    "    print(f'Sua média final foi {final_avg}')\n",
    "    if final_avg >= EXPECTED_FINAL_AVERAGE:\n",
    "        print('Parabéns! você foi aprovado.')\n",
    "    else:\n",
    "        print('Infelizmente você foi reprovado.')\n",
    "else:\n",
    "    print('Infelizmente você foi reprovado.')"
   ]
  },
  {
   "cell_type": "markdown",
   "id": "91b2e7b6-2011-4b5b-9f3d-d41e83bd8b79",
   "metadata": {},
   "source": [
    "### 4. Leia um número entre 1 e 100, e calcule sua soma (Σi) e a soma dos inversos (Σ1/i) dos números."
   ]
  },
  {
   "cell_type": "code",
   "execution_count": null,
   "id": "74571ae1-432a-4a45-9c66-7f0672ee3317",
   "metadata": {},
   "outputs": [],
   "source": [
    "# \"Constante\" para o máximo valor\n",
    "MAX_VALUE = 100\n",
    "\n",
    "# ler valor\n",
    "n = input('Digite um inteiro entre 1 e 100: ')\n",
    "n = int(n)\n",
    "\n",
    "# soma\n",
    "s = 0\n",
    "\n",
    "# soma dos inversos\n",
    "si = 0\n",
    "\n",
    "# Loop para realizar soma\n",
    "for i in range(n, MAX_VALUE):\n",
    "    s += i\n",
    "    si += (1/i)\n",
    "\n",
    "print(f'Soma {n} até 100: {s}')\n",
    "print(f'Soma dos inversos 1/{n} até 1/100: {si}')"
   ]
  },
  {
   "cell_type": "markdown",
   "id": "a156d816-7dbb-4d38-a3ee-9f67a72b6ad8",
   "metadata": {},
   "source": [
    "### 5. Leia um número, calcule seu fatorial e escreva o resultado."
   ]
  },
  {
   "cell_type": "code",
   "execution_count": null,
   "id": "9f556c10-1efe-4f44-8a89-091aec7a4691",
   "metadata": {},
   "outputs": [],
   "source": [
    "# Ler valor inteiro\n",
    "n = input('Digite um inteiro: ')\n",
    "\n",
    "# Converter para inteiro\n",
    "n = int(n)\n",
    "\n",
    "p = 1;\n",
    "for i in range(n, 0, -1):\n",
    "    p *= i\n",
    "\n",
    "print(f'{n}! = {p}')"
   ]
  },
  {
   "cell_type": "markdown",
   "id": "e558720a-1711-484d-9d74-310a4d53254f",
   "metadata": {},
   "source": [
    "### 6. Leia um número, obtenha a sequência de Fibonacci e a apresente."
   ]
  },
  {
   "cell_type": "code",
   "execution_count": null,
   "id": "a6704c97-0c3f-4357-a23c-4b86f3e1b2b3",
   "metadata": {},
   "outputs": [],
   "source": [
    "# Ler valor inteiro\n",
    "n = input('Digite um inteiro: ')\n",
    "\n",
    "# Converter para inteiro\n",
    "n = int(n)\n",
    "\n",
    "# Valores iniciais para gerar os primeiros termos da sequência\n",
    "a, b = -1, 1\n",
    "\n",
    "# Loop para gerar a sequência\n",
    "for i in range(n):\n",
    "    a, b = b, (a + b)\n",
    "    print(b, end=' ')"
   ]
  }
 ],
 "metadata": {
  "kernelspec": {
   "display_name": "Python 3 (ipykernel)",
   "language": "python",
   "name": "python3"
  },
  "language_info": {
   "codemirror_mode": {
    "name": "ipython",
    "version": 3
   },
   "file_extension": ".py",
   "mimetype": "text/x-python",
   "name": "python",
   "nbconvert_exporter": "python",
   "pygments_lexer": "ipython3",
   "version": "3.9.13"
  }
 },
 "nbformat": 4,
 "nbformat_minor": 5
}
