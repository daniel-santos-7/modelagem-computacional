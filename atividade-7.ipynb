{
 "cells": [
  {
   "cell_type": "markdown",
   "id": "19f1cb54-d3d3-434a-9494-ca36f125f9a6",
   "metadata": {},
   "source": [
    "# Universidade Federal Rural do Semi-Árido\n",
    "# Modelagem Computacional\n",
    "**Nome: Daniel da Silva Santos**"
   ]
  },
  {
   "cell_type": "markdown",
   "id": "ef22adaa-0de8-4fc1-b869-311acc05802e",
   "metadata": {},
   "source": [
    "## Atividade 7"
   ]
  },
  {
   "cell_type": "code",
   "execution_count": null,
   "id": "a3e6009b-58ee-48c4-9e03-eb477cb09d88",
   "metadata": {},
   "outputs": [],
   "source": [
    "import numpy as np\n",
    "import matplotlib.pyplot as plt"
   ]
  },
  {
   "cell_type": "markdown",
   "id": "2b462cff-04c1-41ac-9c2d-3ff8ddc0b4d3",
   "metadata": {},
   "source": [
    "### 1. Escreva um programa para calcular a solução de uma equação diferencial ordinária de 1ª ordem pelo método de Euler para o circuito RC abaixo."
   ]
  },
  {
   "cell_type": "markdown",
   "id": "e15509e3-98c8-4782-8b56-3e331451c351",
   "metadata": {},
   "source": [
    "Equação diferencial da tensão no capacitor:\n",
    "$$\\frac{dV_C(t)}{dt} = \\frac{V_S(t)-V_C(t)}{RC}$$\n",
    "\n",
    "Para este caso, considerou-se que a tensão da fonte seria um step de 5V:\n",
    "\n",
    "$$V_S(t)=5 u(t) V$$\n",
    "\n",
    "Já para a resistência e capacitância, adotou-se os seguintes valores:\n",
    "\n",
    "$$R = 10 k\\Omega$$\n",
    "$$C = 10 uF$$\n",
    "\n",
    "A condição inicial utilizada foi $V_c(0)=0$"
   ]
  },
  {
   "cell_type": "code",
   "execution_count": null,
   "id": "8383f8b5-7ba5-4f96-9d1d-40d6e00f32a6",
   "metadata": {},
   "outputs": [],
   "source": [
    "# Implementação do método de Euler\n",
    "def euler(f, h=1e-2, steps=1000, x0=0, y0=0):\n",
    "    x = np.zeros(steps)\n",
    "    y = np.zeros(steps)\n",
    "    x[0] = x0\n",
    "    y[0] = y0\n",
    "    for i in range(1, steps):\n",
    "        y[i] = y[i-1] + h * f(x[i-1], y[i-1])\n",
    "        x[i] = x[i-1] + h\n",
    "    return x, y\n",
    "\n",
    "# Equação diferencial\n",
    "def f(t, Vc):\n",
    "    R = 10e3\n",
    "    C = 10e-6\n",
    "    RC = R*C\n",
    "    Vs = 5 if t >= 0 else 0\n",
    "    return (Vs-Vc)/RC\n",
    "\n",
    "t, Vc = euler(f, 1e-3)\n",
    "\n",
    "plt.title('Tensão no capacitor')\n",
    "plt.ylabel('$V_C(t)$ (V)')\n",
    "plt.xlabel('$t$ (s)')\n",
    "plt.plot(t, Vc, color='r')\n",
    "plt.grid()"
   ]
  },
  {
   "cell_type": "markdown",
   "id": "a702b8e0-6cf2-4107-88fa-3ebb8b1f99a3",
   "metadata": {},
   "source": [
    "### 2. Escreva um programa para calcular a solução de uma equação diferencial ordinária de 2ª ordem pelo método de Euler para o circuito LC abaixo."
   ]
  },
  {
   "cell_type": "markdown",
   "id": "ccdfe5c3-d039-4709-a72e-012b9cff3d7f",
   "metadata": {},
   "source": [
    "A partir das equações diferencias para a corrente do indutor e tensão no capacitor:\n",
    "\n",
    "$$\\frac{di_L}{dt}= \\frac{-V_C}{L}  + \\frac{V_s}{L}$$\n",
    "\n",
    "$$\\frac{dV_C}{dt}= \\frac{i_L}{C}$$\n",
    "\n",
    "É possível obter o seguinte sistema linear:\n",
    "\n",
    "$$\n",
    "\\begin{bmatrix}\n",
    "i_L'(t) \\\\\n",
    "V_c'(t)\n",
    "\\end{bmatrix}\n",
    "=\n",
    "\\begin{bmatrix}\n",
    "0   & -1/L \\\\\n",
    "1/C &  0\n",
    "\\end{bmatrix}\n",
    "\\begin{bmatrix}\n",
    "i_L(t) \\\\\n",
    "V_c(t)\n",
    "\\end{bmatrix}\n",
    "+\n",
    "\\begin{bmatrix}\n",
    "1/L \\\\\n",
    "0\n",
    "\\end{bmatrix}\n",
    "V_S(t)\n",
    "$$\n",
    "\n",
    "Para este caso, também considerou-se que a tensão da fonte seria um step de 5V:\n",
    "\n",
    "$$V_S(t)=5 u(t) V$$\n",
    "\n",
    "Além disso, os seguintes valores para indutância e capacitância foram utilizados:\n",
    "\n",
    "$$L = 10 mH$$\n",
    "$$C = 10 uF$$\n",
    "\n",
    "Já as condições iniciais foram consideradas como:\n",
    "\n",
    "$$i_L(0) = 0$$\n",
    "$$V_c(0) = 0$$"
   ]
  },
  {
   "cell_type": "code",
   "execution_count": null,
   "id": "e3a80f48-6a46-4f97-8367-17167f4b096a",
   "metadata": {},
   "outputs": [],
   "source": [
    "# Implementação do método de Euler para uma função vetorial (com duas variáveis)\n",
    "def euler2d(f, h=1e-2, steps=1000, x0=0, y0=np.array([[0], [0]])):\n",
    "    x = np.zeros(steps)\n",
    "    y = np.empty((steps, 2, 1))\n",
    "    x[0] = x0\n",
    "    y[0] = y0\n",
    "    for i in range(1, steps):\n",
    "        y[i] = y[i-1] + h * f(x[i-1], y[i-1])\n",
    "        x[i] = x[i-1] + h\n",
    "    return x, y\n",
    "\n",
    "# Definindo o sistema de equações diferenciais como uma função vetorial\n",
    "def f(t, x):\n",
    "    L = 100e-3\n",
    "    C = 10e-6\n",
    "    Vs = 5 if t >= 0 else 0\n",
    "    A = np.array([[0, -1/L], [1/C, 0]])\n",
    "    B = np.array([[1/L], [0]])\n",
    "    return A @ x + B * Vs\n",
    "\n",
    "# Aplicando método de Euler\n",
    "t, y = euler2d(f, 1e-6, steps=50000)\n",
    "\n",
    "# Corrente no indutor\n",
    "il = y[:, 0, 0]\n",
    "\n",
    "# Tensão no capacitor\n",
    "Vc = y[:, 1, 0]\n",
    "\n",
    "# Plotagem\n",
    "fig, axs = plt.subplots(2, 1, figsize=(6, 6))\n",
    "\n",
    "# Gráfico da corrente no indutor\n",
    "axs[0].plot(t, il, color='b')\n",
    "axs[0].set_title('Corrente no indutor')\n",
    "axs[0].set_xlabel('t (s)')\n",
    "axs[0].set_ylabel('$i_L$ (A)')\n",
    "axs[0].grid(True)\n",
    "\n",
    "# Gráfico da tensão no capacitor\n",
    "axs[1].plot(t, Vc, color='r')\n",
    "axs[1].set_title('Tensão no capacitor')\n",
    "axs[1].set_xlabel('t (s)')\n",
    "axs[1].set_ylabel('$V_C$ (V)')\n",
    "axs[1].grid(True)\n",
    "\n",
    "plt.tight_layout()\n",
    "plt.show()"
   ]
  }
 ],
 "metadata": {
  "kernelspec": {
   "display_name": "Python 3 (ipykernel)",
   "language": "python",
   "name": "python3"
  },
  "language_info": {
   "codemirror_mode": {
    "name": "ipython",
    "version": 3
   },
   "file_extension": ".py",
   "mimetype": "text/x-python",
   "name": "python",
   "nbconvert_exporter": "python",
   "pygments_lexer": "ipython3",
   "version": "3.9.13"
  }
 },
 "nbformat": 4,
 "nbformat_minor": 5
}
