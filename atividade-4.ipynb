{
 "cells": [
  {
   "cell_type": "markdown",
   "id": "03c2aaa9-159f-4726-822a-6a2ed1525adb",
   "metadata": {},
   "source": [
    "# Universidade Federal Rural do Semi-Árido\n",
    "# Modelagem Computacional\n",
    "**Nome: Daniel da Silva Santos**"
   ]
  },
  {
   "cell_type": "markdown",
   "id": "d3205b32-ad5f-40e7-ae9c-977f616a4753",
   "metadata": {},
   "source": [
    "## Atividade 4"
   ]
  },
  {
   "cell_type": "code",
   "execution_count": 2,
   "id": "94f18a30-957c-42da-9fe6-14cc2b0bb05b",
   "metadata": {},
   "outputs": [],
   "source": [
    "import numpy as np\n",
    "import matplotlib.pyplot as plt"
   ]
  },
  {
   "cell_type": "markdown",
   "id": "98a21db1-0bf9-49c3-a417-f6ecbde0168d",
   "metadata": {},
   "source": [
    "### 1. Desenvolva uma fórmula para as derivadas de terceira e quarta ordem, com erro de 4ª ordem."
   ]
  },
  {
   "cell_type": "markdown",
   "id": "73d8dd40-8dab-40ef-8973-226672e4efb2",
   "metadata": {},
   "source": [
    "### 2. Escreva um programa em que seja solicitado um valor para x, e que além de apresentar f(x), apresente as derivadas de primeira a quarta ordem com as equações dos slides e da questão anterior. Considere $f(x) = \\sin(x \\cdot \\cos(x) – \\sin(x))$."
   ]
  },
  {
   "cell_type": "code",
   "execution_count": 34,
   "id": "89d91a3c-9bdf-46d3-805f-d47bba4b4163",
   "metadata": {},
   "outputs": [
    {
     "name": "stdout",
     "output_type": "stream",
     "text": [
      "--------------------------------------\n",
      "f(x) = sin[x . cos(x) - sin(x)]\n",
      "--------------------------------------\n"
     ]
    },
    {
     "name": "stdin",
     "output_type": "stream",
     "text": [
      "Insira o valor de x: 2\n"
     ]
    },
    {
     "name": "stdout",
     "output_type": "stream",
     "text": [
      "f(x) =-0.9854499940600923\n",
      "f'(x)=0.32544094589760375\n",
      "--------------------------------------\n",
      "--------------------------------------\n"
     ]
    }
   ],
   "source": [
    "# Declarando função\n",
    "f = lambda x:np.sin(x*np.cos(x)-np.sin(x))\n",
    "\n",
    "def dydx(f, x, h = 1e-2):\n",
    "    return (f(x+h)-f(x))/h\n",
    "\n",
    "print('--------------------------------------')\n",
    "print('f(x) = sin[x . cos(x) - sin(x)]')\n",
    "print('--------------------------------------')\n",
    "\n",
    "x = input('Insira o valor de x:')\n",
    "x = float(x)\n",
    "\n",
    "y = f(x)\n",
    "dydx1 = dydx(f, x)\n",
    "\n",
    "print(f'f(x) ={y}')\n",
    "print(f'f\\'(x)={dydx1}')\n",
    "\n",
    "print('--------------------------------------')\n",
    "print('--------------------------------------')"
   ]
  },
  {
   "cell_type": "markdown",
   "id": "57d53364-ef4f-4ba3-88ff-db65282d5560",
   "metadata": {},
   "source": [
    "### 3. Escreva um programa para calcular a integral numérica da função $f(x) = \\sin(x \\cdot \\cos(x) – \\sin(x))$, pelos métodos dos trapézios e quadratura gaussiana (para o último você pode aproveitar o algoritmo apresentado)."
   ]
  }
 ],
 "metadata": {
  "kernelspec": {
   "display_name": "Python 3 (ipykernel)",
   "language": "python",
   "name": "python3"
  },
  "language_info": {
   "codemirror_mode": {
    "name": "ipython",
    "version": 3
   },
   "file_extension": ".py",
   "mimetype": "text/x-python",
   "name": "python",
   "nbconvert_exporter": "python",
   "pygments_lexer": "ipython3",
   "version": "3.9.13"
  }
 },
 "nbformat": 4,
 "nbformat_minor": 5
}
