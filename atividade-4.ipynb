{
 "cells": [
  {
   "cell_type": "markdown",
   "id": "03c2aaa9-159f-4726-822a-6a2ed1525adb",
   "metadata": {},
   "source": [
    "# Universidade Federal Rural do Semi-Árido\n",
    "# Modelagem Computacional\n",
    "**Nome: Daniel da Silva Santos**"
   ]
  },
  {
   "cell_type": "markdown",
   "id": "d3205b32-ad5f-40e7-ae9c-977f616a4753",
   "metadata": {},
   "source": [
    "## Atividade 4"
   ]
  },
  {
   "cell_type": "code",
   "execution_count": null,
   "id": "94f18a30-957c-42da-9fe6-14cc2b0bb05b",
   "metadata": {},
   "outputs": [],
   "source": [
    "import numpy as np\n",
    "import matplotlib.pyplot as plt"
   ]
  },
  {
   "cell_type": "markdown",
   "id": "98a21db1-0bf9-49c3-a417-f6ecbde0168d",
   "metadata": {},
   "source": [
    "### 1. Desenvolva uma fórmula para as derivadas de terceira e quarta ordem, com erro de 4ª ordem."
   ]
  },
  {
   "cell_type": "markdown",
   "id": "b9df22c2-214e-4ae0-9420-085284a48f2d",
   "metadata": {},
   "source": [
    "pendente."
   ]
  },
  {
   "cell_type": "markdown",
   "id": "73d8dd40-8dab-40ef-8973-226672e4efb2",
   "metadata": {},
   "source": [
    "### 2. Escreva um programa em que seja solicitado um valor para x, e que além de apresentar f(x), apresente as derivadas de primeira a quarta ordem com as equações dos slides e da questão anterior. Considere $f(x) = \\sin(x \\cdot \\cos(x) – \\sin(x))$."
   ]
  },
  {
   "cell_type": "markdown",
   "id": "a2e2abe5-c5e6-4c75-847a-c940159da03d",
   "metadata": {},
   "source": [
    "Equação para primeira derivada:\n",
    "$$f'(x) \\approx \\frac{-f(x+2h) + 8f(x+h) -8 f(x-h) + f(x-2h)}{12h}$$\n",
    "\n",
    "Equação para a segunda derivada:\n",
    "$$f''(x) \\approx \\frac{-f(x+2h) + 16f(x+h) -30f(x) +16 f(x-h) - f(x-2h)}{12h^2}$$\n",
    "\n",
    "Equação para a terceira derivada [1]:\n",
    "$$f'''(x) \\approx \\frac{-f(x+3h) + 8f(x+2h) - 13f(x+h) +13f(x-h) -8f(x-2h) + f(x-3h)}{8h^3}$$\n",
    "\n",
    "Equação para a quarta derivada [1]:\n",
    "$$f''''(x) \\approx \\frac{-f(x+3h) + 12f(x+2h) - 39f(x+h) + 56f(x) -39f(x-h) +12f(x-2h) - f(x-3h)}{6h^4}$$"
   ]
  },
  {
   "cell_type": "code",
   "execution_count": null,
   "id": "89d91a3c-9bdf-46d3-805f-d47bba4b4163",
   "metadata": {},
   "outputs": [],
   "source": [
    "# Declarando função\n",
    "def f(x):\n",
    "    return np.sin(x*np.cos(x)-np.sin(x))\n",
    "\n",
    "def diff1(f, x, h = 1e-3):\n",
    "    return (-f(x+2*h)+8*f(x+h)-8*f(x-h)+f(x-2*h))/(12*h)\n",
    "\n",
    "def diff2(f, x, h = 1e-3):\n",
    "    return (-f(x+2*h)+16*f(x+h)-30*f(x)+16*f(x-h)-f(x-2*h))/(12*h**2)\n",
    "\n",
    "def diff3(f, x, h = 1e-3):\n",
    "    return (-f(x+3*h)+8*f(x+2*h)-13*f(x+h)+13*f(x-h)-8*f(x-2*h)+f(x-3*h))/(8*h**3)\n",
    "\n",
    "def diff4(f, x, h = 1e-3):\n",
    "    return (-f(x+3*h)+12*f(x+2*h)-39*f(x+h)+56*f(x)-39*f(x-h)+12*f(x-2*h)-f(x-3*h))/(6*h**4)\n",
    "\n",
    "print('--------------------------------------')\n",
    "print('f(x) = sin[x . cos(x) - sin(x)]')\n",
    "print('--------------------------------------')\n",
    "x = input('Insira o valor de x:')\n",
    "x = float(x)\n",
    "print('--------------------------------------')\n",
    "\n",
    "y = f(x)\n",
    "d1 = diff1(f, x)\n",
    "d2 = diff2(f, x)\n",
    "d3 = diff3(f, x)\n",
    "d4 = diff4(f, x)\n",
    "\n",
    "print(f'f(x)       =\\t{y}')\n",
    "print(f'd¹f(x)/dx¹ =\\t{d1}')\n",
    "print(f'd²f(x)/dx² =\\t{d2}')\n",
    "print(f'd³f(x)/dx³ =\\t{d3}')\n",
    "print(f'd⁴f(x)/dx⁴ =\\t{d4}')\n",
    "print('--------------------------------------')"
   ]
  },
  {
   "cell_type": "markdown",
   "id": "57d53364-ef4f-4ba3-88ff-db65282d5560",
   "metadata": {},
   "source": [
    "### 3. Escreva um programa para calcular a integral numérica da função $f(x) = \\sin(x \\cdot \\cos(x) – \\sin(x))$, pelos métodos dos trapézios e quadratura gaussiana (para o último você pode aproveitar o algoritmo apresentado)."
   ]
  },
  {
   "cell_type": "code",
   "execution_count": null,
   "id": "03478fbb-a034-4a2e-8b5d-9f1bcee692d0",
   "metadata": {},
   "outputs": [],
   "source": [
    "# Declarando função\n",
    "def f(x):\n",
    "    return np.sin(x*np.cos(x)-np.sin(x))\n",
    "\n",
    "# Regra dos trapézios\n",
    "def trapezoid_rule(f, a, b, n):\n",
    "    x = np.linspace(a, b, n+1)\n",
    "    y = f(x)\n",
    "    h = (b-a)/n\n",
    "    return (h/2)*(y[0] + 2*sum(y[1:-1]) + y[-1])\n",
    "\n",
    "# Quadratura de Gauss\n",
    "def gauss(f, a, b):\n",
    "    w = [0.2955242247,0.2692667193,0.2190863625,0.1494513491,0.0666713443]\n",
    "    x = [0.1488743389,0.4333953941,0.6794095682,0.8650633666,0.9739065285]\n",
    "    xm = (b+a)/2\n",
    "    xr = (b-a)/2\n",
    "    value = 0\n",
    "    for i in range(0, 5):\n",
    "        dx = xr*x[i]\n",
    "        value += w[i]*(f(xm+dx) + f(xm-dx))\n",
    "    return xr*value\n",
    "\n",
    "print('--------------------------------------')\n",
    "print('f(x) = sin[x . cos(x) - sin(x)]')\n",
    "print('--------------------------------------')\n",
    "interval = input('Insira o intervalo de integração:')\n",
    "a, b = map(float, interval.split(','))\n",
    "print('--------------------------------------')\n",
    "\n",
    "n = 100000\n",
    "trapezoid_value = trapezoid_rule(f, a, b, n)\n",
    "gauss_value = gauss(f, a, b)\n",
    "\n",
    "print(f'Trapézios =\\t{trapezoid_value}')\n",
    "print(f'Gauss     =\\t{gauss_value}')\n",
    "print('--------------------------------------')"
   ]
  },
  {
   "cell_type": "markdown",
   "id": "a05ec058-3f86-4b09-8528-0d531449882c",
   "metadata": {},
   "source": [
    "[1] CHAPRA, Steven C.; CANALE, Raymond P. *Métodos Numéricos para Engenharia*. 5. ed. Porto Alegre: AMGH, 2012."
   ]
  }
 ],
 "metadata": {
  "kernelspec": {
   "display_name": "Python 3 (ipykernel)",
   "language": "python",
   "name": "python3"
  },
  "language_info": {
   "codemirror_mode": {
    "name": "ipython",
    "version": 3
   },
   "file_extension": ".py",
   "mimetype": "text/x-python",
   "name": "python",
   "nbconvert_exporter": "python",
   "pygments_lexer": "ipython3",
   "version": "3.9.13"
  }
 },
 "nbformat": 4,
 "nbformat_minor": 5
}
