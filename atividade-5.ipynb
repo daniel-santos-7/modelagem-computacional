{
 "cells": [
  {
   "cell_type": "markdown",
   "id": "b70b2dda-3148-48a5-beb0-bb5dae770411",
   "metadata": {},
   "source": [
    "# Universidade Federal Rural do Semi-Árido\n",
    "# Modelagem Computacional\n",
    "**Nome: Daniel da Silva Santos**"
   ]
  },
  {
   "cell_type": "markdown",
   "id": "87200a51-9100-428e-ad99-8aa8bf367a23",
   "metadata": {},
   "source": [
    "## Atividade 5"
   ]
  },
  {
   "cell_type": "code",
   "execution_count": null,
   "id": "f898fd19-db73-443e-8dda-10c7e07e2a10",
   "metadata": {},
   "outputs": [],
   "source": [
    "import numpy as np\n",
    "import matplotlib.pyplot as plt"
   ]
  },
  {
   "cell_type": "markdown",
   "id": "218a05a1-ad36-469e-98f8-4c464f5b01ec",
   "metadata": {},
   "source": [
    "### 1. Com o método gráfico determine uma raiz da função abaixo. Selecione um intervalo para uma raiz.\n",
    "\n",
    "$$f(x) = \\sin(x \\cdot \\cos(x) – \\sin(x))$$"
   ]
  },
  {
   "cell_type": "code",
   "execution_count": null,
   "id": "7739b080-e984-4f4c-a746-82411ba4a7e7",
   "metadata": {},
   "outputs": [],
   "source": [
    "# Definição da função\n",
    "def f(x):\n",
    "    return np.sin(x * np.cos(x) - np.sin(x))\n",
    "\n",
    "# Plotagem do gráfico\n",
    "x = np.linspace(-2*np.pi, 2*np.pi, 1000)\n",
    "y = f(x)\n",
    "\n",
    "# A função apresenta uma raiz entre 4 e 5\n",
    "plt.xlim([4, 5])\n",
    "plt.plot(x, y)\n",
    "plt.grid(True)"
   ]
  },
  {
   "cell_type": "markdown",
   "id": "d4b45664-2d6c-4a4b-9de7-e72af680af91",
   "metadata": {},
   "source": [
    "### 2. Escreva um programa em que seja solicitado um intervalo, a precisão e a quantidade máxima de iterações. Calcule, através do método da bisseção a raiz da função abaixo.\n",
    "$$f(x) = \\sin(x \\cdot \\cos(x) – \\sin(x))$$"
   ]
  },
  {
   "cell_type": "code",
   "execution_count": null,
   "id": "47c34a54-a0f7-4c52-b234-be6a888808f1",
   "metadata": {},
   "outputs": [],
   "source": [
    "# Definição da função\n",
    "def f(x):\n",
    "    return np.sin(x * np.cos(x) - np.sin(x))\n",
    "\n",
    "# Implementação do método da bisseção\n",
    "def bisection(f, a, b, precision, max_iter):\n",
    "    if f(a) * f(b) >= 0: raise ValueError(\"Raiz não encontrada no intervalo fornecido\")\n",
    "    for i in range(max_iter):\n",
    "        c = (a+b)/2\n",
    "        y = f(c)\n",
    "        if y == 0 or abs(b-a) <= precision:\n",
    "            break\n",
    "        if f(a)*y < 0:\n",
    "            b = c\n",
    "        else:\n",
    "            a = c\n",
    "    return c, i+1\n",
    "\n",
    "print('--------------------------------------')\n",
    "print('f(x) = sin[x . cos(x) - sin(x)]')\n",
    "print('--------------------------------------')\n",
    "\n",
    "interval = input(\"Insira o intervalo (a, b): \")\n",
    "a, b = map(float, interval.split(','))\n",
    "\n",
    "precision = input(\"Insira a precisão desejada: \")\n",
    "precision = float(precision)\n",
    "\n",
    "max_iter = input(\"Insira a quantidade máxima de iterações: \")\n",
    "max_iter = int(max_iter)\n",
    "\n",
    "root, iterations = bisection(f, a, b, precision, max_iter)\n",
    "print('--------------------------------------')\n",
    "print(f'Valor da raiz: {root}')\n",
    "print(f'Número de interações: {iterations}')"
   ]
  },
  {
   "cell_type": "markdown",
   "id": "718fd4b3-b448-49c6-a0f0-807d3edbaf34",
   "metadata": {},
   "source": [
    "### 3. Escreva um programa em que seja solicitado um intervalo, a precisão e a quantidade máxima de iterações. Calcule, através do método da secante a raiz da função abaixo.\n",
    "$$f(x) = \\sin(x \\cdot \\cos(x) – \\sin(x))$$"
   ]
  },
  {
   "cell_type": "code",
   "execution_count": null,
   "id": "22366af0-dea9-4da1-a702-9356fdc9226d",
   "metadata": {},
   "outputs": [],
   "source": [
    "# Definição da função\n",
    "def f(x):\n",
    "    return np.sin(x * np.cos(x) - np.sin(x))\n",
    "\n",
    "# Implementação do método das secantes\n",
    "def secant(f, x0, x1, precision, max_iter):\n",
    "    for i in range(max_iter):\n",
    "        xn = x1 - f(x1)*(x1-x0)/(f(x1)-f(x0))\n",
    "        x0, x1 = x1, xn\n",
    "        if (abs(x1-x0) <= precision): break   \n",
    "    return x1, i+1\n",
    "\n",
    "print('--------------------------------------')\n",
    "print('f(x) = sin[x . cos(x) - sin(x)]')\n",
    "print('--------------------------------------')\n",
    "\n",
    "interval = input(\"Insira o intervalo (x0, x1): \")\n",
    "x0, x1 = map(float, interval.split(','))\n",
    "\n",
    "precision = input(\"Insira a precisão desejada: \")\n",
    "precision = float(precision)\n",
    "\n",
    "max_iter = input(\"Insira a quantidade máxima de iterações: \")\n",
    "max_iter = int(max_iter)\n",
    "\n",
    "root, iterations = secant(f, x0, x1, precision, max_iter)\n",
    "print('--------------------------------------')\n",
    "print(f'Valor da raiz: {root}')\n",
    "print(f'Número de interações: {iterations}')"
   ]
  }
 ],
 "metadata": {
  "kernelspec": {
   "display_name": "Python 3 (ipykernel)",
   "language": "python",
   "name": "python3"
  },
  "language_info": {
   "codemirror_mode": {
    "name": "ipython",
    "version": 3
   },
   "file_extension": ".py",
   "mimetype": "text/x-python",
   "name": "python",
   "nbconvert_exporter": "python",
   "pygments_lexer": "ipython3",
   "version": "3.9.13"
  }
 },
 "nbformat": 4,
 "nbformat_minor": 5
}
